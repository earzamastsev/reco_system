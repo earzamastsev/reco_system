{
 "cells": [
  {
   "cell_type": "code",
   "execution_count": 1,
   "id": "33e0f925",
   "metadata": {},
   "outputs": [],
   "source": [
    "import numpy as np\n",
    "import pandas as pd\n",
    "from tqdm.notebook import tqdm\n",
    "from multiprocessing.pool import Pool"
   ]
  },
  {
   "cell_type": "code",
   "execution_count": 2,
   "id": "e839d490",
   "metadata": {},
   "outputs": [],
   "source": [
    "# load data\n",
    "trans = pd.read_csv('transactions.csv')\n",
    "prods = pd.read_csv('products.csv')\n",
    "df = trans.merge(prods, on=['product_id'])"
   ]
  },
  {
   "cell_type": "code",
   "execution_count": 3,
   "id": "e9e002b5",
   "metadata": {},
   "outputs": [],
   "source": [
    "# preprocessing and optimisation\n",
    "int64 = df.select_dtypes('int64').columns\n",
    "float64 = df.select_dtypes('float64').columns\n",
    "df.days_since_prior_order = df.days_since_prior_order.fillna(9999)\n",
    "df[int64] = df[int64].astype('int32')\n",
    "df[float64] = df[float64].astype('int32')\n",
    "df.sort_values(by=['user_id', 'order_number', 'add_to_cart_order'], ignore_index=True, inplace=True)\n",
    "df['time'] = df.index.values\n",
    "df['time'] = df['time'].astype('int32')"
   ]
  },
  {
   "cell_type": "code",
   "execution_count": 4,
   "id": "e4a1473f",
   "metadata": {},
   "outputs": [
    {
     "data": {
      "text/plain": [
       "order_id                  0\n",
       "user_id                   0\n",
       "order_number              0\n",
       "order_dow                 0\n",
       "order_hour_of_day         0\n",
       "days_since_prior_order    0\n",
       "product_id                0\n",
       "add_to_cart_order         0\n",
       "reordered                 0\n",
       "product_name              0\n",
       "aisle_id                  0\n",
       "department_id             0\n",
       "aisle                     0\n",
       "department                0\n",
       "time                      0\n",
       "dtype: int64"
      ]
     },
     "execution_count": 4,
     "metadata": {},
     "output_type": "execute_result"
    }
   ],
   "source": [
    "df.isna().sum()"
   ]
  },
  {
   "cell_type": "code",
   "execution_count": 5,
   "id": "00fa1352",
   "metadata": {},
   "outputs": [
    {
     "data": {
      "text/html": [
       "<div>\n",
       "<style scoped>\n",
       "    .dataframe tbody tr th:only-of-type {\n",
       "        vertical-align: middle;\n",
       "    }\n",
       "\n",
       "    .dataframe tbody tr th {\n",
       "        vertical-align: top;\n",
       "    }\n",
       "\n",
       "    .dataframe thead th {\n",
       "        text-align: right;\n",
       "    }\n",
       "</style>\n",
       "<table border=\"1\" class=\"dataframe\">\n",
       "  <thead>\n",
       "    <tr style=\"text-align: right;\">\n",
       "      <th></th>\n",
       "      <th></th>\n",
       "      <th>cnt</th>\n",
       "    </tr>\n",
       "    <tr>\n",
       "      <th>user_id</th>\n",
       "      <th>product_id</th>\n",
       "      <th></th>\n",
       "    </tr>\n",
       "  </thead>\n",
       "  <tbody>\n",
       "    <tr>\n",
       "      <th rowspan=\"4\" valign=\"top\">41356</th>\n",
       "      <th>6583</th>\n",
       "      <td>99</td>\n",
       "    </tr>\n",
       "    <tr>\n",
       "      <th>14366</th>\n",
       "      <td>99</td>\n",
       "    </tr>\n",
       "    <tr>\n",
       "      <th>38652</th>\n",
       "      <td>99</td>\n",
       "    </tr>\n",
       "    <tr>\n",
       "      <th>29671</th>\n",
       "      <td>98</td>\n",
       "    </tr>\n",
       "    <tr>\n",
       "      <th>17997</th>\n",
       "      <th>4210</th>\n",
       "      <td>98</td>\n",
       "    </tr>\n",
       "  </tbody>\n",
       "</table>\n",
       "</div>"
      ],
      "text/plain": [
       "                    cnt\n",
       "user_id product_id     \n",
       "41356   6583         99\n",
       "        14366        99\n",
       "        38652        99\n",
       "        29671        98\n",
       "17997   4210         98"
      ]
     },
     "execution_count": 5,
     "metadata": {},
     "output_type": "execute_result"
    }
   ],
   "source": [
    "# calc frequency\n",
    "aggr = df.groupby(['user_id','product_id']) \\\n",
    "        .agg({'order_id':'count'}) \\\n",
    "        .rename(columns={'order_id':'cnt'}) \\\n",
    "        .sort_values('cnt', ascending=False)\n",
    "aggr.head()"
   ]
  },
  {
   "cell_type": "code",
   "execution_count": 6,
   "id": "8ccc3873",
   "metadata": {},
   "outputs": [],
   "source": [
    "# calc top10 prods for cold start\n",
    "top10 = df.groupby('product_id').agg({'order_id':'count'}).rename(columns={'order_id':'cnt'}).sort_values(by='cnt', ascending=False).head(10)\n",
    "top10 = top10.reset_index().merge(prods[['product_id','product_name']])"
   ]
  },
  {
   "cell_type": "code",
   "execution_count": null,
   "id": "a8034b64",
   "metadata": {},
   "outputs": [
    {
     "data": {
      "application/vnd.jupyter.widget-view+json": {
       "model_id": "8ad14d7c34a3435ba673969fef8653c3",
       "version_major": 2,
       "version_minor": 0
      },
      "text/plain": [
       "  0%|          | 0/100000 [00:00<?, ?it/s]"
      ]
     },
     "metadata": {},
     "output_type": "display_data"
    }
   ],
   "source": [
    "# make submission sync version\n",
    "results = {\"user_id\":[],\n",
    "           \"product_id\":[]}\n",
    "\n",
    "for user in tqdm(df.user_id.unique()):\n",
    "    prods = aggr.loc[user].head(10).index.to_list()\n",
    "    results[\"user_id\"].append(user)\n",
    "    if len(prods)<10:\n",
    "        tmp = prods + top10.product_id.to_list()[0:10-len(prods)]\n",
    "        results[\"product_id\"].append(\" \".join([str(x) for x in tmp]))\n",
    "    else:\n",
    "        results[\"product_id\"].append(\" \".join([str(x) for x in prods]))\n",
    "\n",
    "sub = pd.DataFrame(results)\n",
    "sub.to_csv('submission.csv', index=False)\n",
    "sub.head()"
   ]
  },
  {
   "cell_type": "code",
   "execution_count": 37,
   "id": "dc4372cb",
   "metadata": {},
   "outputs": [
    {
     "name": "stdout",
     "output_type": "stream",
     "text": [
      "100000 100000\n"
     ]
    }
   ],
   "source": [
    "print(len(results['product_id']), len(results['user_id']))"
   ]
  },
  {
   "cell_type": "code",
   "execution_count": null,
   "id": "dd8381e2",
   "metadata": {},
   "outputs": [],
   "source": []
  }
 ],
 "metadata": {
  "kernelspec": {
   "display_name": "Python 3",
   "language": "python",
   "name": "python3"
  },
  "language_info": {
   "codemirror_mode": {
    "name": "ipython",
    "version": 3
   },
   "file_extension": ".py",
   "mimetype": "text/x-python",
   "name": "python",
   "nbconvert_exporter": "python",
   "pygments_lexer": "ipython3",
   "version": "3.6.9"
  }
 },
 "nbformat": 4,
 "nbformat_minor": 5
}
