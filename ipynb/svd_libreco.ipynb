{
 "cells": [
  {
   "cell_type": "code",
   "execution_count": 1,
   "id": "33e0f925",
   "metadata": {},
   "outputs": [
    {
     "name": "stdout",
     "output_type": "stream",
     "text": [
      "WARNING:tensorflow:From /home/eugene/tf/lib/python3.6/site-packages/tensorflow/python/compat/v2_compat.py:96: disable_resource_variables (from tensorflow.python.ops.variable_scope) is deprecated and will be removed in a future version.\n",
      "Instructions for updating:\n",
      "non-resource variables are not supported in the long term\n"
     ]
    }
   ],
   "source": [
    "import numpy as np\n",
    "import pandas as pd\n",
    "from tqdm.notebook import tqdm\n",
    "import tensorflow as tf\n",
    "\n",
    "from libreco.data import split_by_ratio_chrono, DatasetPure\n",
    "from libreco.algorithms import (\n",
    "    SVD, SVDpp, NCF, ALS, UserCF, ItemCF, RNN4Rec, KnnEmbedding,\n",
    "    KnnEmbeddingApproximate, BPR)"
   ]
  },
  {
   "cell_type": "code",
   "execution_count": 2,
   "id": "e839d490",
   "metadata": {},
   "outputs": [],
   "source": [
    "# load data\n",
    "df = pd.read_csv('transactions.csv')\n",
    "prods = pd.read_csv('products.csv')\n",
    "# df = trans.merge(prods, on=['product_id'])"
   ]
  },
  {
   "cell_type": "code",
   "execution_count": 3,
   "id": "e9e002b5",
   "metadata": {},
   "outputs": [],
   "source": [
    "# preprocessing and optimisation\n",
    "int64 = df.select_dtypes('int64').columns\n",
    "float64 = df.select_dtypes('float64').columns\n",
    "df.days_since_prior_order = df.days_since_prior_order.fillna(9999)\n",
    "df[int64] = df[int64].astype('int32')\n",
    "df[float64] = df[float64].astype('int32')\n",
    "df.sort_values(by=['user_id', 'order_number', 'add_to_cart_order'], ignore_index=True, inplace=True)\n",
    "\n",
    "# no datatime in row data. Add sequentional parameter\n",
    "df['time'] = df.index.values\n",
    "df['time'] = df['time'].astype('int32')"
   ]
  },
  {
   "cell_type": "code",
   "execution_count": 4,
   "id": "c15a65d8",
   "metadata": {},
   "outputs": [],
   "source": [
    "# crate ranking score connected to frequency of purchases\n",
    "aggr = df.groupby(['user_id','product_id']).agg({'order_id':'count'}).rename(columns={'order_id':'cnt'}).sort_values('cnt', ascending=False)\n",
    "aggr['rating'] = aggr.rank(pct=True)*5\n",
    "aggr['rating'] = aggr['rating'].apply(round)\n",
    "agg_rank = aggr.reset_index()\n",
    "df = df.merge(agg_rank, on=[\"user_id\",\"product_id\"])"
   ]
  },
  {
   "cell_type": "code",
   "execution_count": 5,
   "id": "ff96b703",
   "metadata": {},
   "outputs": [
    {
     "data": {
      "text/html": [
       "<div>\n",
       "<style scoped>\n",
       "    .dataframe tbody tr th:only-of-type {\n",
       "        vertical-align: middle;\n",
       "    }\n",
       "\n",
       "    .dataframe tbody tr th {\n",
       "        vertical-align: top;\n",
       "    }\n",
       "\n",
       "    .dataframe thead th {\n",
       "        text-align: right;\n",
       "    }\n",
       "</style>\n",
       "<table border=\"1\" class=\"dataframe\">\n",
       "  <thead>\n",
       "    <tr style=\"text-align: right;\">\n",
       "      <th></th>\n",
       "      <th>user</th>\n",
       "      <th>item</th>\n",
       "      <th>label</th>\n",
       "      <th>time</th>\n",
       "    </tr>\n",
       "  </thead>\n",
       "  <tbody>\n",
       "    <tr>\n",
       "      <th>0</th>\n",
       "      <td>1</td>\n",
       "      <td>196</td>\n",
       "      <td>5</td>\n",
       "      <td>0</td>\n",
       "    </tr>\n",
       "    <tr>\n",
       "      <th>1</th>\n",
       "      <td>1</td>\n",
       "      <td>196</td>\n",
       "      <td>5</td>\n",
       "      <td>5</td>\n",
       "    </tr>\n",
       "    <tr>\n",
       "      <th>2</th>\n",
       "      <td>1</td>\n",
       "      <td>196</td>\n",
       "      <td>5</td>\n",
       "      <td>11</td>\n",
       "    </tr>\n",
       "    <tr>\n",
       "      <th>3</th>\n",
       "      <td>1</td>\n",
       "      <td>196</td>\n",
       "      <td>5</td>\n",
       "      <td>16</td>\n",
       "    </tr>\n",
       "    <tr>\n",
       "      <th>4</th>\n",
       "      <td>1</td>\n",
       "      <td>196</td>\n",
       "      <td>5</td>\n",
       "      <td>21</td>\n",
       "    </tr>\n",
       "  </tbody>\n",
       "</table>\n",
       "</div>"
      ],
      "text/plain": [
       "   user  item  label  time\n",
       "0     1   196      5     0\n",
       "1     1   196      5     5\n",
       "2     1   196      5    11\n",
       "3     1   196      5    16\n",
       "4     1   196      5    21"
      ]
     },
     "execution_count": 5,
     "metadata": {},
     "output_type": "execute_result"
    }
   ],
   "source": [
    "# clear memory\n",
    "df = df.rename(columns={\"user_id\":\"user\", \"product_id\":\"item\", \"rating\":\"label\"})\n",
    "data = df[[\"user\", \"item\", \"label\", \"time\"]]\n",
    "del aggr\n",
    "del df\n",
    "del prods\n",
    "\n",
    "data.head()"
   ]
  },
  {
   "cell_type": "code",
   "execution_count": 6,
   "id": "e4a1473f",
   "metadata": {},
   "outputs": [],
   "source": [
    "# df.isna().sum()"
   ]
  },
  {
   "cell_type": "code",
   "execution_count": 7,
   "id": "dd8381e2",
   "metadata": {},
   "outputs": [],
   "source": [
    "def reset_state(name):\n",
    "    tf.compat.v1.reset_default_graph()\n",
    "    print(\"\\n\", \"=\" * 30, name, \"=\" * 30)"
   ]
  },
  {
   "cell_type": "code",
   "execution_count": 19,
   "id": "abaaac1b",
   "metadata": {},
   "outputs": [
    {
     "name": "stdout",
     "output_type": "stream",
     "text": [
      "n_users: 100000, n_items: 49133, data sparsity: 0.4300 %\n",
      "random neg item sampling elapsed: 10.800s\n",
      "random neg item sampling elapsed: 2.780s\n",
      "\n",
      " ============================== SVD ==============================\n",
      "Training start time: \u001b[35m2021-04-07 10:43:20\u001b[0m\n"
     ]
    },
    {
     "name": "stderr",
     "output_type": "stream",
     "text": [
      "train: 100%|██████████| 82526/82526 [01:37<00:00, 842.40it/s]\n",
      "eval_pred:   9%|▉         | 117/1290 [00:00<00:01, 1163.63it/s]"
     ]
    },
    {
     "name": "stdout",
     "output_type": "stream",
     "text": [
      "Epoch 1 elapsed: 109.629s\n",
      "\t \u001b[32mtrain_loss: 0.2885\u001b[0m\n"
     ]
    },
    {
     "name": "stderr",
     "output_type": "stream",
     "text": [
      "eval_pred: 100%|██████████| 1290/1290 [00:01<00:00, 1126.48it/s]\n",
      "eval_rec: 100%|██████████| 2048/2048 [00:01<00:00, 1348.29it/s]\n"
     ]
    },
    {
     "name": "stdout",
     "output_type": "stream",
     "text": [
      "\t eval log_loss: 0.2603\n",
      "\t eval balanced accuracy: 0.9016\n",
      "\t eval roc_auc: 0.9629\n",
      "\t eval pr_auc: 0.9608\n",
      "\t eval precision@10: 0.0419\n",
      "\t eval recall@10: 0.0108\n",
      "\t eval map@10: 0.1227\n",
      "\t eval ndcg@10: 0.1723\n",
      "==============================\n"
     ]
    },
    {
     "name": "stderr",
     "output_type": "stream",
     "text": [
      "train: 100%|██████████| 82526/82526 [01:34<00:00, 870.72it/s]\n",
      "eval_pred:   9%|▉         | 118/1290 [00:00<00:00, 1179.25it/s]"
     ]
    },
    {
     "name": "stdout",
     "output_type": "stream",
     "text": [
      "Epoch 2 elapsed: 106.358s\n",
      "\t \u001b[32mtrain_loss: 0.2212\u001b[0m\n"
     ]
    },
    {
     "name": "stderr",
     "output_type": "stream",
     "text": [
      "eval_pred: 100%|██████████| 1290/1290 [00:01<00:00, 1144.84it/s]\n",
      "eval_rec: 100%|██████████| 2048/2048 [00:01<00:00, 1258.18it/s]\n"
     ]
    },
    {
     "name": "stdout",
     "output_type": "stream",
     "text": [
      "\t eval log_loss: 0.2419\n",
      "\t eval balanced accuracy: 0.9126\n",
      "\t eval roc_auc: 0.9693\n",
      "\t eval pr_auc: 0.9671\n",
      "\t eval precision@10: 0.0407\n",
      "\t eval recall@10: 0.0106\n",
      "\t eval map@10: 0.1174\n",
      "\t eval ndcg@10: 0.1664\n",
      "==============================\n"
     ]
    },
    {
     "name": "stderr",
     "output_type": "stream",
     "text": [
      "train: 100%|██████████| 82526/82526 [01:34<00:00, 869.26it/s]\n",
      "eval_pred:   9%|▉         | 118/1290 [00:00<00:00, 1175.50it/s]"
     ]
    },
    {
     "name": "stdout",
     "output_type": "stream",
     "text": [
      "Epoch 3 elapsed: 106.513s\n",
      "\t \u001b[32mtrain_loss: 0.1964\u001b[0m\n"
     ]
    },
    {
     "name": "stderr",
     "output_type": "stream",
     "text": [
      "eval_pred: 100%|██████████| 1290/1290 [00:01<00:00, 1136.66it/s]\n",
      "eval_rec: 100%|██████████| 2048/2048 [00:01<00:00, 1428.61it/s]\n"
     ]
    },
    {
     "name": "stdout",
     "output_type": "stream",
     "text": [
      "\t eval log_loss: 0.2377\n",
      "\t eval balanced accuracy: 0.9171\n",
      "\t eval roc_auc: 0.9715\n",
      "\t eval pr_auc: 0.9690\n",
      "\t eval precision@10: 0.0396\n",
      "\t eval recall@10: 0.0100\n",
      "\t eval map@10: 0.1158\n",
      "\t eval ndcg@10: 0.1623\n",
      "==============================\n"
     ]
    }
   ],
   "source": [
    "train_data, eval_data = split_by_ratio_chrono(data, test_size=0.2)\n",
    "train_data, data_info = DatasetPure.build_trainset(train_data)\n",
    "eval_data = DatasetPure.build_evalset(eval_data)\n",
    "print(data_info)\n",
    "# do negative sampling, assume the data only contains positive feedback\n",
    "train_data.build_negative_samples(data_info, item_gen_mode=\"random\",\n",
    "                                  num_neg=1, seed=2020)\n",
    "eval_data.build_negative_samples(data_info, item_gen_mode=\"random\",\n",
    "                                 num_neg=1, seed=2222)\n",
    "\n",
    "reset_state(\"SVD\")\n",
    "svd = SVD(\"ranking\", data_info, embed_size=16, n_epochs=3, lr=0.001,\n",
    "          reg=None, batch_size=512, batch_sampling=False, num_neg=1)\n",
    "svd.fit(train_data, verbose=2, shuffle=True, eval_data=eval_data,\n",
    "        metrics=[\"loss\", \"balanced_accuracy\",\n",
    "                 \"roc_auc\", \"pr_auc\", \"precision\",\n",
    "                 \"recall\", \"map\", \"ndcg\"])"
   ]
  },
  {
   "cell_type": "code",
   "execution_count": 26,
   "id": "78d06354",
   "metadata": {},
   "outputs": [
    {
     "name": "stdout",
     "output_type": "stream",
     "text": [
      "prediction:  for item #196 [0.99929833]\n",
      "TOP-100 recommendation:  [(22362, 0.9999939), (13575, 0.9999902), (41400, 0.9999889), (42282, 0.9999869), (31759, 0.9999838), (37710, 0.9999826), (31651, 0.999977), (33783, 0.9999747), (116, 0.9999622), (38768, 0.9999548), (35561, 0.9999287), (21572, 0.99991965), (5258, 0.9999168), (26900, 0.9999167), (21769, 0.9998933), (9434, 0.9998815), (11365, 0.9998747), (21137, 0.999869), (17207, 0.9998654), (39954, 0.99986315), (36472, 0.99986184), (8803, 0.9998615), (10441, 0.99983954), (20518, 0.9998394), (15680, 0.9998375), (30633, 0.9998167), (16732, 0.9997992), (45051, 0.9997774), (12341, 0.99977213), (10310, 0.99976164), (19887, 0.99974555), (22507, 0.9997451), (13042, 0.9997354), (19660, 0.99973124), (907, 0.9997291), (29015, 0.9997197), (32478, 0.9997185), (21386, 0.99970514), (30486, 0.9996941), (38928, 0.9996848), (20738, 0.9996712), (33147, 0.9996644), (22802, 0.9996604), (17313, 0.99964523), (21873, 0.999635), (27038, 0.99962103), (4938, 0.9995974), (5161, 0.9995809), (8953, 0.9995801), (39657, 0.9995633), (43154, 0.9995577), (21903, 0.99954647), (12078, 0.99952114), (27839, 0.9995183), (13259, 0.9995159), (46061, 0.9995148), (16283, 0.9994825), (37919, 0.99943966), (33768, 0.9993728), (2855, 0.9993672), (6901, 0.9993591), (16797, 0.999356), (25653, 0.99925464), (17957, 0.9992447), (130, 0.99923396), (14334, 0.99923027), (8859, 0.99918884), (3298, 0.99918824), (23423, 0.9991698), (30946, 0.999121), (48193, 0.9990972), (14414, 0.99909294), (35269, 0.9990854), (37687, 0.99906164), (7147, 0.9990465), (38300, 0.99901044), (38440, 0.9990054), (8571, 0.999), (42500, 0.99898666), (20940, 0.9989133), (44172, 0.9989104), (47402, 0.9989071), (40199, 0.9988618), (6729, 0.99885404), (4920, 0.99885035), (27744, 0.998844), (12703, 0.9988356), (48762, 0.9988186), (48812, 0.99879766), (13914, 0.99874866), (36833, 0.99874276), (21288, 0.998725), (14467, 0.9987224), (40939, 0.99869615), (5971, 0.99869555), (18838, 0.99863726), (35951, 0.9986008), (11759, 0.99856097), (15541, 0.998522), (8013, 0.99850404)]\n",
      "Is most likely item (196) for user 1 in recomendation? False\n"
     ]
    }
   ],
   "source": [
    "print(\"prediction:  for item #196\", svd.predict(user=1, item=196))\n",
    "print(\"TOP-100 recommendation: \", svd.recommend_user(user=1, n_rec=100))\n",
    "print(f'Is most likely item (196) for user 1 in recomendation? {196 in svd.recommend_user(user=1, n_rec=100)}')"
   ]
  },
  {
   "cell_type": "code",
   "execution_count": 27,
   "id": "b0b975bb",
   "metadata": {},
   "outputs": [
    {
     "data": {
      "text/html": [
       "<div>\n",
       "<style scoped>\n",
       "    .dataframe tbody tr th:only-of-type {\n",
       "        vertical-align: middle;\n",
       "    }\n",
       "\n",
       "    .dataframe tbody tr th {\n",
       "        vertical-align: top;\n",
       "    }\n",
       "\n",
       "    .dataframe thead th {\n",
       "        text-align: right;\n",
       "    }\n",
       "</style>\n",
       "<table border=\"1\" class=\"dataframe\">\n",
       "  <thead>\n",
       "    <tr style=\"text-align: right;\">\n",
       "      <th></th>\n",
       "      <th>cnt</th>\n",
       "    </tr>\n",
       "    <tr>\n",
       "      <th>item</th>\n",
       "      <th></th>\n",
       "    </tr>\n",
       "  </thead>\n",
       "  <tbody>\n",
       "    <tr>\n",
       "      <th>196</th>\n",
       "      <td>10</td>\n",
       "    </tr>\n",
       "    <tr>\n",
       "      <th>12427</th>\n",
       "      <td>10</td>\n",
       "    </tr>\n",
       "    <tr>\n",
       "      <th>10258</th>\n",
       "      <td>9</td>\n",
       "    </tr>\n",
       "    <tr>\n",
       "      <th>25133</th>\n",
       "      <td>8</td>\n",
       "    </tr>\n",
       "    <tr>\n",
       "      <th>46149</th>\n",
       "      <td>3</td>\n",
       "    </tr>\n",
       "    <tr>\n",
       "      <th>13032</th>\n",
       "      <td>3</td>\n",
       "    </tr>\n",
       "    <tr>\n",
       "      <th>49235</th>\n",
       "      <td>2</td>\n",
       "    </tr>\n",
       "    <tr>\n",
       "      <th>13176</th>\n",
       "      <td>2</td>\n",
       "    </tr>\n",
       "    <tr>\n",
       "      <th>26088</th>\n",
       "      <td>2</td>\n",
       "    </tr>\n",
       "    <tr>\n",
       "      <th>26405</th>\n",
       "      <td>2</td>\n",
       "    </tr>\n",
       "  </tbody>\n",
       "</table>\n",
       "</div>"
      ],
      "text/plain": [
       "       cnt\n",
       "item      \n",
       "196     10\n",
       "12427   10\n",
       "10258    9\n",
       "25133    8\n",
       "46149    3\n",
       "13032    3\n",
       "49235    2\n",
       "13176    2\n",
       "26088    2\n",
       "26405    2"
      ]
     },
     "execution_count": 27,
     "metadata": {},
     "output_type": "execute_result"
    }
   ],
   "source": [
    "user_item = data.groupby(['user', 'item']) \\\n",
    "    .agg({\"label\":'count'}) \\\n",
    "    .rename(columns={\"label\":'cnt'}) \\\n",
    "    .sort_values(by='cnt', ascending=False)\n",
    "\n",
    "# most likely items for user #1 is item #196\n",
    "user_item.loc[1].head(10)"
   ]
  },
  {
   "cell_type": "code",
   "execution_count": 12,
   "id": "4dd4bfba",
   "metadata": {},
   "outputs": [
    {
     "data": {
      "text/html": [
       "<div>\n",
       "<style scoped>\n",
       "    .dataframe tbody tr th:only-of-type {\n",
       "        vertical-align: middle;\n",
       "    }\n",
       "\n",
       "    .dataframe tbody tr th {\n",
       "        vertical-align: top;\n",
       "    }\n",
       "\n",
       "    .dataframe thead th {\n",
       "        text-align: right;\n",
       "    }\n",
       "</style>\n",
       "<table border=\"1\" class=\"dataframe\">\n",
       "  <thead>\n",
       "    <tr style=\"text-align: right;\">\n",
       "      <th></th>\n",
       "      <th>user</th>\n",
       "      <th>item</th>\n",
       "    </tr>\n",
       "  </thead>\n",
       "  <tbody>\n",
       "    <tr>\n",
       "      <th>472</th>\n",
       "      <td>986</td>\n",
       "      <td>1</td>\n",
       "    </tr>\n",
       "    <tr>\n",
       "      <th>2114</th>\n",
       "      <td>4433</td>\n",
       "      <td>1</td>\n",
       "    </tr>\n",
       "    <tr>\n",
       "      <th>4190</th>\n",
       "      <td>8702</td>\n",
       "      <td>1</td>\n",
       "    </tr>\n",
       "    <tr>\n",
       "      <th>5200</th>\n",
       "      <td>10798</td>\n",
       "      <td>1</td>\n",
       "    </tr>\n",
       "    <tr>\n",
       "      <th>5558</th>\n",
       "      <td>11534</td>\n",
       "      <td>1</td>\n",
       "    </tr>\n",
       "    <tr>\n",
       "      <th>5792</th>\n",
       "      <td>12025</td>\n",
       "      <td>1</td>\n",
       "    </tr>\n",
       "    <tr>\n",
       "      <th>9725</th>\n",
       "      <td>20121</td>\n",
       "      <td>1</td>\n",
       "    </tr>\n",
       "    <tr>\n",
       "      <th>15549</th>\n",
       "      <td>32121</td>\n",
       "      <td>1</td>\n",
       "    </tr>\n",
       "    <tr>\n",
       "      <th>17964</th>\n",
       "      <td>37075</td>\n",
       "      <td>1</td>\n",
       "    </tr>\n",
       "    <tr>\n",
       "      <th>23408</th>\n",
       "      <td>48242</td>\n",
       "      <td>1</td>\n",
       "    </tr>\n",
       "  </tbody>\n",
       "</table>\n",
       "</div>"
      ],
      "text/plain": [
       "        user  item\n",
       "472      986     1\n",
       "2114    4433     1\n",
       "4190    8702     1\n",
       "5200   10798     1\n",
       "5558   11534     1\n",
       "5792   12025     1\n",
       "9725   20121     1\n",
       "15549  32121     1\n",
       "17964  37075     1\n",
       "23408  48242     1"
      ]
     },
     "execution_count": 12,
     "metadata": {},
     "output_type": "execute_result"
    }
   ],
   "source": [
    "# users how bought only 1 items in overall history\n",
    "data.groupby(['user']) \\\n",
    "    .agg({'item':'nunique'}).reset_index().query('item==1').head(10)"
   ]
  },
  {
   "cell_type": "code",
   "execution_count": 18,
   "id": "59900eb7",
   "metadata": {},
   "outputs": [
    {
     "data": {
      "text/html": [
       "<div>\n",
       "<style scoped>\n",
       "    .dataframe tbody tr th:only-of-type {\n",
       "        vertical-align: middle;\n",
       "    }\n",
       "\n",
       "    .dataframe tbody tr th {\n",
       "        vertical-align: top;\n",
       "    }\n",
       "\n",
       "    .dataframe thead th {\n",
       "        text-align: right;\n",
       "    }\n",
       "</style>\n",
       "<table border=\"1\" class=\"dataframe\">\n",
       "  <thead>\n",
       "    <tr style=\"text-align: right;\">\n",
       "      <th></th>\n",
       "      <th>user</th>\n",
       "      <th>item</th>\n",
       "      <th>label</th>\n",
       "      <th>time</th>\n",
       "    </tr>\n",
       "  </thead>\n",
       "  <tbody>\n",
       "    <tr>\n",
       "      <th>119360</th>\n",
       "      <td>986</td>\n",
       "      <td>4444</td>\n",
       "      <td>5</td>\n",
       "      <td>119360</td>\n",
       "    </tr>\n",
       "    <tr>\n",
       "      <th>119361</th>\n",
       "      <td>986</td>\n",
       "      <td>4444</td>\n",
       "      <td>5</td>\n",
       "      <td>119361</td>\n",
       "    </tr>\n",
       "    <tr>\n",
       "      <th>119362</th>\n",
       "      <td>986</td>\n",
       "      <td>4444</td>\n",
       "      <td>5</td>\n",
       "      <td>119362</td>\n",
       "    </tr>\n",
       "    <tr>\n",
       "      <th>119363</th>\n",
       "      <td>986</td>\n",
       "      <td>4444</td>\n",
       "      <td>5</td>\n",
       "      <td>119363</td>\n",
       "    </tr>\n",
       "    <tr>\n",
       "      <th>119364</th>\n",
       "      <td>986</td>\n",
       "      <td>4444</td>\n",
       "      <td>5</td>\n",
       "      <td>119364</td>\n",
       "    </tr>\n",
       "    <tr>\n",
       "      <th>119365</th>\n",
       "      <td>986</td>\n",
       "      <td>4444</td>\n",
       "      <td>5</td>\n",
       "      <td>119365</td>\n",
       "    </tr>\n",
       "    <tr>\n",
       "      <th>119366</th>\n",
       "      <td>986</td>\n",
       "      <td>4444</td>\n",
       "      <td>5</td>\n",
       "      <td>119366</td>\n",
       "    </tr>\n",
       "    <tr>\n",
       "      <th>119367</th>\n",
       "      <td>986</td>\n",
       "      <td>4444</td>\n",
       "      <td>5</td>\n",
       "      <td>119367</td>\n",
       "    </tr>\n",
       "    <tr>\n",
       "      <th>119368</th>\n",
       "      <td>986</td>\n",
       "      <td>4444</td>\n",
       "      <td>5</td>\n",
       "      <td>119368</td>\n",
       "    </tr>\n",
       "    <tr>\n",
       "      <th>119369</th>\n",
       "      <td>986</td>\n",
       "      <td>4444</td>\n",
       "      <td>5</td>\n",
       "      <td>119369</td>\n",
       "    </tr>\n",
       "    <tr>\n",
       "      <th>119370</th>\n",
       "      <td>986</td>\n",
       "      <td>4444</td>\n",
       "      <td>5</td>\n",
       "      <td>119370</td>\n",
       "    </tr>\n",
       "    <tr>\n",
       "      <th>119371</th>\n",
       "      <td>986</td>\n",
       "      <td>4444</td>\n",
       "      <td>5</td>\n",
       "      <td>119371</td>\n",
       "    </tr>\n",
       "    <tr>\n",
       "      <th>119372</th>\n",
       "      <td>986</td>\n",
       "      <td>4444</td>\n",
       "      <td>5</td>\n",
       "      <td>119372</td>\n",
       "    </tr>\n",
       "    <tr>\n",
       "      <th>119373</th>\n",
       "      <td>986</td>\n",
       "      <td>4444</td>\n",
       "      <td>5</td>\n",
       "      <td>119373</td>\n",
       "    </tr>\n",
       "    <tr>\n",
       "      <th>119374</th>\n",
       "      <td>986</td>\n",
       "      <td>4444</td>\n",
       "      <td>5</td>\n",
       "      <td>119374</td>\n",
       "    </tr>\n",
       "    <tr>\n",
       "      <th>119375</th>\n",
       "      <td>986</td>\n",
       "      <td>4444</td>\n",
       "      <td>5</td>\n",
       "      <td>119375</td>\n",
       "    </tr>\n",
       "    <tr>\n",
       "      <th>119376</th>\n",
       "      <td>986</td>\n",
       "      <td>4444</td>\n",
       "      <td>5</td>\n",
       "      <td>119376</td>\n",
       "    </tr>\n",
       "    <tr>\n",
       "      <th>119377</th>\n",
       "      <td>986</td>\n",
       "      <td>4444</td>\n",
       "      <td>5</td>\n",
       "      <td>119377</td>\n",
       "    </tr>\n",
       "    <tr>\n",
       "      <th>119378</th>\n",
       "      <td>986</td>\n",
       "      <td>4444</td>\n",
       "      <td>5</td>\n",
       "      <td>119378</td>\n",
       "    </tr>\n",
       "    <tr>\n",
       "      <th>119379</th>\n",
       "      <td>986</td>\n",
       "      <td>4444</td>\n",
       "      <td>5</td>\n",
       "      <td>119379</td>\n",
       "    </tr>\n",
       "  </tbody>\n",
       "</table>\n",
       "</div>"
      ],
      "text/plain": [
       "        user  item  label    time\n",
       "119360   986  4444      5  119360\n",
       "119361   986  4444      5  119361\n",
       "119362   986  4444      5  119362\n",
       "119363   986  4444      5  119363\n",
       "119364   986  4444      5  119364\n",
       "119365   986  4444      5  119365\n",
       "119366   986  4444      5  119366\n",
       "119367   986  4444      5  119367\n",
       "119368   986  4444      5  119368\n",
       "119369   986  4444      5  119369\n",
       "119370   986  4444      5  119370\n",
       "119371   986  4444      5  119371\n",
       "119372   986  4444      5  119372\n",
       "119373   986  4444      5  119373\n",
       "119374   986  4444      5  119374\n",
       "119375   986  4444      5  119375\n",
       "119376   986  4444      5  119376\n",
       "119377   986  4444      5  119377\n",
       "119378   986  4444      5  119378\n",
       "119379   986  4444      5  119379"
      ]
     },
     "execution_count": 18,
     "metadata": {},
     "output_type": "execute_result"
    }
   ],
   "source": [
    "# purchases history for user #986 (only 1 item 4444)\n",
    "data.query('user==986')"
   ]
  },
  {
   "cell_type": "code",
   "execution_count": 30,
   "id": "8d6c0704",
   "metadata": {},
   "outputs": [
    {
     "name": "stdout",
     "output_type": "stream",
     "text": [
      "prediction:  for user #986 item=4444 [0.9602553]\n",
      "TOP-100 recommendation:  [(22901, 0.9986553), (9589, 0.9979254), (24964, 0.99730515), (31553, 0.9972361), (34126, 0.9969591), (6801, 0.99651885), (28509, 0.99521506), (6368, 0.99491477), (41220, 0.99483585), (5427, 0.99467623), (29846, 0.9945832), (44359, 0.9944595), (1157, 0.99432266), (21903, 0.99432015), (5450, 0.994132), (37266, 0.99412495), (23532, 0.99387157), (35163, 0.99385506), (23803, 0.99376786), (19613, 0.993755), (1365, 0.99373215), (49217, 0.9934157), (46979, 0.9933328), (12914, 0.992941), (31717, 0.9929196), (45007, 0.9928763), (47766, 0.9928474), (11185, 0.99284476), (30881, 0.99271214), (26530, 0.99238235), (17795, 0.992326), (39147, 0.992303), (2178, 0.9922988), (26477, 0.99222517), (34487, 0.99221426), (43789, 0.99217623), (9913, 0.99168944), (41330, 0.99162054), (7049, 0.99139106), (42768, 0.99126124), (42398, 0.99118173), (48894, 0.9908404), (18860, 0.99075174), (19660, 0.99055344), (28601, 0.99054396), (12697, 0.9905131), (40859, 0.99034005), (13609, 0.990337), (45862, 0.99010414), (33731, 0.9900367), (15146, 0.98991966), (26209, 0.9897489), (43831, 0.9896505), (27960, 0.9894699), (31949, 0.98946893), (37680, 0.98944664), (5876, 0.9894136), (40311, 0.9892425), (47209, 0.9892291), (47626, 0.98914844), (17584, 0.9889389), (9890, 0.98893636), (35845, 0.9886833), (23916, 0.9884183), (25242, 0.9882791), (48364, 0.9882394), (15640, 0.98807317), (21938, 0.98807144), (5616, 0.98796916), (6252, 0.98784), (21616, 0.9877038), (18078, 0.98767495), (42625, 0.98758185), (10095, 0.98746455), (28985, 0.98735285), (41950, 0.9873054), (42479, 0.9872771), (17794, 0.98726463), (12930, 0.9871388), (6347, 0.9867909), (12237, 0.98669136), (47734, 0.9865283), (40232, 0.9864094), (5228, 0.9862503), (28842, 0.9860891), (48890, 0.98589975), (10065, 0.9858876), (10749, 0.9858213), (22935, 0.985656), (6307, 0.9855827), (21405, 0.98556304), (30820, 0.98553526), (8368, 0.98550564), (43379, 0.98536843), (11560, 0.98534447), (49169, 0.98530096), (49683, 0.9852438), (30500, 0.9849643), (1890, 0.9848223), (4605, 0.9847531)]\n",
      "Is most likely item (4444) for user #986 in recomendation? False\n"
     ]
    }
   ],
   "source": [
    "print(\"prediction:  for user #986 item=4444\", svd.predict(user=986, item=4444))\n",
    "print(\"TOP-100 recommendation: \", svd.recommend_user(user=986, n_rec=100))\n",
    "print(f'Is most likely item (4444) for user #986 in recomendation? {4444 in svd.recommend_user(user=1, n_rec=100)}')"
   ]
  },
  {
   "cell_type": "code",
   "execution_count": null,
   "id": "e4070b11",
   "metadata": {},
   "outputs": [],
   "source": []
  }
 ],
 "metadata": {
  "kernelspec": {
   "display_name": "Python 3",
   "language": "python",
   "name": "python3"
  },
  "language_info": {
   "codemirror_mode": {
    "name": "ipython",
    "version": 3
   },
   "file_extension": ".py",
   "mimetype": "text/x-python",
   "name": "python",
   "nbconvert_exporter": "python",
   "pygments_lexer": "ipython3",
   "version": "3.6.9"
  }
 },
 "nbformat": 4,
 "nbformat_minor": 5
}
